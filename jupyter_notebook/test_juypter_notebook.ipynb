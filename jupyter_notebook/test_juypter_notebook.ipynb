{
 "cells": [
  {
   "cell_type": "markdown",
   "id": "9f654b56",
   "metadata": {},
   "source": [
    "# python ka chilla with #baba Aammar\n",
    "## How to you juypter note book\n",
    "## basics of python\n",
    "###**01-My first program**\n"
   ]
  },
  {
   "cell_type": "code",
   "execution_count": 17,
   "id": "0292680f",
   "metadata": {},
   "outputs": [
    {
     "name": "stdout",
     "output_type": "stream",
     "text": [
      "5\n",
      "hello world\n",
      "i am happy today\n"
     ]
    }
   ],
   "source": [
    "print(2+3)\n",
    "print(\"hello world\")\n",
    "print(\"i am happy today\")"
   ]
  },
  {
   "cell_type": "markdown",
   "id": "e5c15f74",
   "metadata": {},
   "source": [
    "###**02-operators**"
   ]
  },
  {
   "cell_type": "code",
   "execution_count": 18,
   "id": "a135302b",
   "metadata": {},
   "outputs": [
    {
     "name": "stdout",
     "output_type": "stream",
     "text": [
      "5\n",
      "3\n",
      "12\n",
      "2.0\n",
      "3\n",
      "4\n",
      "1\n",
      "15.5\n"
     ]
    }
   ],
   "source": [
    "print(3+2)\n",
    "print(5-2)\n",
    "print(4*3)\n",
    "print(4/2)\n",
    "print(6//2)\n",
    "print(2**2)\n",
    "print(4%3)\n",
    "\n",
    "print(3**2/2*3+6-4)"
   ]
  },
  {
   "cell_type": "markdown",
   "id": "050507c7",
   "metadata": {},
   "source": [
    "*PEMDAS\n",
    "Parenthesis, Exponent, Multiply, Divide, Addition, Substraction\n",
    "left to right sequences for M D & A S*"
   ]
  },
  {
   "cell_type": "markdown",
   "id": "a02af7b2",
   "metadata": {},
   "source": [
    "###**03-strings**"
   ]
  },
  {
   "cell_type": "code",
   "execution_count": 19,
   "id": "accb9ddf",
   "metadata": {},
   "outputs": [
    {
     "name": "stdout",
     "output_type": "stream",
     "text": [
      "hello world\n",
      "i am happy today\n",
      "test for single quote\n",
      "Test for double quotes\n",
      "test for tripple quotes\n",
      "what's up\n"
     ]
    }
   ],
   "source": [
    "print(\"hello world\")\n",
    "print(\"i am happy today\")\n",
    "print('test for single quote')\n",
    "print(\"Test for double quotes\")\n",
    "print('''test for tripple quotes''')\n",
    "print(\"what's up\")"
   ]
  },
  {
   "cell_type": "markdown",
   "id": "3d0c4995",
   "metadata": {},
   "source": [
    "###**04-comment in python**\n",
    "\n",
    "The shortcut key to comment is **ctri+/**"
   ]
  },
  {
   "cell_type": "code",
   "execution_count": 20,
   "id": "4929cf23",
   "metadata": {
    "scrolled": false
   },
   "outputs": [
    {
     "name": "stdout",
     "output_type": "stream",
     "text": [
      "How are you? \n",
      "we are learning python with Aammar\n",
      "15\n"
     ]
    }
   ],
   "source": [
    "print(\"How are you? \")\n",
    "print(\"we are learning python with Aammar\")\n",
    "print(6+9)\n",
    "\n",
    "     "
   ]
  },
  {
   "cell_type": "markdown",
   "id": "b3fa4e88",
   "metadata": {},
   "source": [
    "###**05-variable**\n"
   ]
  },
  {
   "cell_type": "code",
   "execution_count": 21,
   "id": "f34caf44",
   "metadata": {},
   "outputs": [
    {
     "name": "stdout",
     "output_type": "stream",
     "text": [
      "hello world\n",
      "6\n",
      "5 hello world 6\n",
      "11\n",
      "<class 'int'>\n",
      "<class 'int'>\n",
      "9\n"
     ]
    }
   ],
   "source": [
    "x=(3+2)\n",
    "y= (\"hello world\")\n",
    "print(y)\n",
    "z = 3+3\n",
    "print(z)\n",
    "print(x,y,z)\n",
    "x=x+6\n",
    "print(x)\n",
    "#types of variables\n",
    "print(type(x))\n",
    "fruit_basket=9\n",
    "fruit_basket=11\n",
    "fruit_basket=9\n",
    "print(type(fruit_basket))\n",
    "print(fruit_basket)\n"
   ]
  },
  {
   "cell_type": "markdown",
   "id": "9181e5a9",
   "metadata": {},
   "source": [
    "###**06-input variable**"
   ]
  },
  {
   "cell_type": "code",
   "execution_count": 22,
   "id": "f2bf416d",
   "metadata": {},
   "outputs": [
    {
     "name": "stdout",
     "output_type": "stream",
     "text": [
      "Mangoes\n",
      "Which is your favourite fruit? Apple\n",
      "Apple\n",
      "what is your name? Pretty\n",
      "hello! Pretty\n",
      "What is your name? Handsome\n",
      "How old are you? 1 \n",
      "hello! Handsome you are still young\n"
     ]
    }
   ],
   "source": [
    "fruit_basket=\"Mangoes\"\n",
    "print(fruit_basket)\n",
    "\n",
    "# #input function\n",
    "fruit_basket=input(\"Which is your favourite fruit? \")\n",
    "print(fruit_basket)\n",
    "\n",
    "#input function of second stage\n",
    "name=input(\"what is your name? \") \n",
    "greetings=(\"hello!\")\n",
    "print(greetings,name)\n",
    "#another way of stage 2 input function\n",
    "#3rd stage input function\n",
    "name=input(\"What is your name? \")\n",
    "age=input(\"How old are you? \")\n",
    "greetings=\"hello!\"\n",
    "\n",
    "print(greetings, name, \"you are still young\")"
   ]
  },
  {
   "cell_type": "markdown",
   "id": "96de1d8a",
   "metadata": {},
   "source": [
    "###**07-conditional logics**"
   ]
  },
  {
   "cell_type": "code",
   "execution_count": 23,
   "id": "5d2cd0ba",
   "metadata": {
    "scrolled": true
   },
   "outputs": [
    {
     "name": "stdout",
     "output_type": "stream",
     "text": [
      "True\n",
      "False\n",
      "True\n",
      "False\n",
      "False\n",
      "False\n",
      "How old is Hammad4\n",
      "<class 'int'>\n",
      "False\n"
     ]
    }
   ],
   "source": [
    "# logical operators are either \"true or false\" or \"yes or no\" or \"0 or 1\"equal to                    ==\n",
    "# not equal to                !=\n",
    "# less than                   <\n",
    "# greater than                >\n",
    "# less than and equal to      <=\n",
    "# greater than and equal to   >=\n",
    "print(4==4)\n",
    "print(9<4)\n",
    "print(79!=8)\n",
    "print(45!=45)\n",
    "print(4==9)\n",
    "\n",
    "# applicatin of logical operators\n",
    "Hammad_age=4\n",
    "age_at_school=5\n",
    "print(Hammad_age==age_at_school)\n",
    " #input operator and logicals\n",
    "age_at_school=5\n",
    "Hammad_age=input(\"How old is Hammad\")\n",
    "Hammad_age=int(Hammad_age)\n",
    "print(type(Hammad_age))\n",
    "print(Hammad_age==age_at_school)"
   ]
  },
  {
   "cell_type": "markdown",
   "id": "d81f59a7",
   "metadata": {},
   "source": [
    "###**08-type conversion**"
   ]
  },
  {
   "cell_type": "code",
   "execution_count": 24,
   "id": "c19702e1",
   "metadata": {},
   "outputs": [
    {
     "name": "stdout",
     "output_type": "stream",
     "text": [
      "<class 'int'>\n",
      "<class 'float'>\n",
      "<class 'str'>\n",
      "<class 'float'>\n",
      "132.6 type of xis: <class 'float'>\n",
      "What is your age? 15\n",
      "15 <class 'float'>\n",
      "What is your name? Aiman\n",
      "Aiman <class 'str'>\n"
     ]
    }
   ],
   "source": [
    "x = 12     #integer\n",
    "y =10.2    #float\n",
    "z = \"hello\"  #string\n",
    "print(type(x))\n",
    "print(type(y))\n",
    "print(type(z))\n",
    " #implicit type conversion\n",
    "x=x*y\n",
    "\n",
    "print(type(x))\n",
    "x=x+y\n",
    "print(x,\"type of xis:\", type(x))\n",
    "#emplicit type conversion\n",
    "age=input(\"What is your age? \")\n",
    "age=int(age)\n",
    "print(age, type(float(age)))\n",
    "\n",
    "#name\n",
    "name=input(\"What is your name? \")\n",
    "print(name, type(str(name)))"
   ]
  },
  {
   "cell_type": "markdown",
   "id": "a64e1f23",
   "metadata": {},
   "source": [
    "###**09-if else & elif**"
   ]
  },
  {
   "cell_type": "code",
   "execution_count": 25,
   "id": "f19a3ccd",
   "metadata": {},
   "outputs": [
    {
     "name": "stdout",
     "output_type": "stream",
     "text": [
      "you should take care of Hammad, he is still a baby\n"
     ]
    }
   ],
   "source": [
    "required_age_at_school=5\n",
    "Hammad_age=3\n",
    "#Question can Hammad go to school?\n",
    "if Hammad_age==required_age_at_school:\n",
    "    print(\"congratulation, Hammad can join the school\")\n",
    "elif Hammad_age > required_age_at_school: \n",
    "    print(\"Hammad should join the higher secondary school\")    \n",
    "elif Hammad_age >=2:\n",
    "    print(\"you should take care of Hammad, he is still a baby\")\n",
    "else:\n",
    "    print(\"Hammad can not go to school\")    \n"
   ]
  },
  {
   "cell_type": "markdown",
   "id": "5ec20ec1",
   "metadata": {},
   "source": [
    "###**10-functions**"
   ]
  },
  {
   "cell_type": "code",
   "execution_count": 27,
   "id": "14e5b5eb",
   "metadata": {},
   "outputs": [
    {
     "name": "stdout",
     "output_type": "stream",
     "text": [
      "We are learning with Aammar\n",
      "We are learning with Aammar\n",
      "We are learning with Aammar\n",
      "We are learning with Aammar in codanics youtube channel\n",
      "We are learning with Aammar in codanics youtube channel\n",
      "We are learning with Aammar in codanics youtube channel\n",
      "We are learning with Aammar in codanics youtube channel\n",
      "We are learning with Aammar in codanics youtube channel\n",
      "We are learning with Aammar in codanics youtube channel\n",
      "we are learning with aammar\n",
      "we are learning with aammar\n",
      "we are learning with aammar\n",
      "we are learning with aammar\n",
      "we are learning with aammar\n",
      "we are learning with aammar\n"
     ]
    }
   ],
   "source": [
    "\n",
    "\n",
    "#define a function\n",
    "#1\n",
    "def print_codanics():\n",
    "    print(\"We are learning with Aammar\")\n",
    "    print(\"We are learning with Aammar\")\n",
    "    print(\"We are learning with Aammar\")\n",
    "print_codanics()\n",
    "\n",
    "#2\n",
    "def print_codanics():\n",
    "    text = \"We are learning with Aammar in codanics youtube channel\"\n",
    "    print(text)\n",
    "    print(text)\n",
    "    print(text)\n",
    "\n",
    "print_codanics()  \n",
    "\n",
    " #3\n",
    "def print_codanics(text):\n",
    "    print(text)\n",
    "    print(text)\n",
    "    print(text)\n",
    "print_codanics(\"We are learning with Aammar in codanics youtube channel\")     \n",
    "\n",
    "#defining the function with if, elif and else statements\n",
    "\n",
    "def school_calculator(age):\n",
    "    if age==5:\n",
    "        print(\"Hammad can join the school\")\n",
    "    elif age>5:\n",
    "        print(\"Hammad should go to higher school\")\n",
    "    else:\n",
    "        print(\"Hammad is still a baby\")      \n",
    "\n",
    "# school_calculator(2)  \n",
    "    \n",
    "print(\"we are learning with aammar\")\n",
    "print(\"we are learning with aammar\")\n",
    "print(\"we are learning with aammar\")\n",
    "print(\"we are learning with aammar\")\n",
    "print(\"we are learning with aammar\")\n",
    "print(\"we are learning with aammar\")"
   ]
  },
  {
   "cell_type": "markdown",
   "id": "cf0ebffa",
   "metadata": {},
   "source": [
    "###**11-loops**"
   ]
  },
  {
   "cell_type": "code",
   "execution_count": 29,
   "id": "df11f11f",
   "metadata": {},
   "outputs": [
    {
     "name": "stdout",
     "output_type": "stream",
     "text": [
      "0\n",
      "1\n",
      "2\n",
      "3\n",
      "4\n",
      "5\n",
      "6\n",
      "7\n",
      "8\n",
      "9\n",
      "10\n",
      "11\n",
      "12\n",
      "5\n",
      "6\n",
      "7\n",
      "8\n",
      "9\n",
      "mon\n",
      "tues\n",
      "wed\n",
      "thurs\n",
      "sat\n",
      "sun\n"
     ]
    }
   ],
   "source": [
    " #while and For loops\n",
    "#while loops\n",
    "\n",
    "x=0\n",
    "while (x<=12):\n",
    "    print(x)\n",
    "    x=x+1\n",
    "#for loop\n",
    "\n",
    "for x in range (5,10):\n",
    "    print(x)\n",
    "#array\n",
    "days=[\"mon\",\"tues\",\"wed\",\"thurs\",\"fri\",\"sat\",\"sun\"]\n",
    "for d in days:\n",
    "      if (d==\"fri\"): continue\n",
    "      print(d)"
   ]
  },
  {
   "cell_type": "markdown",
   "id": "3d1ef6be",
   "metadata": {},
   "source": [
    "###**12-important libraries**"
   ]
  },
  {
   "cell_type": "code",
   "execution_count": 31,
   "id": "fa45beb5",
   "metadata": {},
   "outputs": [
    {
     "name": "stdout",
     "output_type": "stream",
     "text": [
      "the value ofpi is  3.141592653589793\n",
      "300\n"
     ]
    }
   ],
   "source": [
    "#if you print the value of pi\n",
    "\n",
    "import math\n",
    "print(\"the value ofpi is \",math.pi)\n",
    "\n",
    "import statistics\n",
    "\n",
    "x=[150,250,350,450]\n",
    "print(statistics.mean(x))"
   ]
  },
  {
   "cell_type": "markdown",
   "id": "b2d58e08",
   "metadata": {},
   "source": [
    "###**13-trouble shooting**"
   ]
  },
  {
   "cell_type": "code",
   "execution_count": 33,
   "id": "67ca16b0",
   "metadata": {},
   "outputs": [
    {
     "name": "stdout",
     "output_type": "stream",
     "text": [
      "helloAiman\n"
     ]
    }
   ],
   "source": [
    "name=\"Aiman\"\n",
    "print(\"hello\"+ name)"
   ]
  },
  {
   "cell_type": "code",
   "execution_count": null,
   "id": "da28231e",
   "metadata": {},
   "outputs": [],
   "source": []
  }
 ],
 "metadata": {
  "kernelspec": {
   "display_name": "Python 3 (ipykernel)",
   "language": "python",
   "name": "python3"
  },
  "language_info": {
   "codemirror_mode": {
    "name": "ipython",
    "version": 3
   },
   "file_extension": ".py",
   "mimetype": "text/x-python",
   "name": "python",
   "nbconvert_exporter": "python",
   "pygments_lexer": "ipython3",
   "version": "3.9.12"
  }
 },
 "nbformat": 4,
 "nbformat_minor": 5
}
