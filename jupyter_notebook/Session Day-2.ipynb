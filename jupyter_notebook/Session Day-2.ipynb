{
 "cells": [
  {
   "cell_type": "code",
   "execution_count": 1,
   "id": "e45b7f02",
   "metadata": {},
   "outputs": [],
   "source": [
    "# body  mass index (BMI)\n",
    "# input weight\n",
    "# height\n",
    "# BMI (Ask your self your height)\n",
    "# weight\n",
    "# calculate BMI\n",
    "# print BMI (my name is   , and my BMI is  --------)"
   ]
  },
  {
   "cell_type": "code",
   "execution_count": 2,
   "id": "63b499d3",
   "metadata": {},
   "outputs": [],
   "source": [
    "# weight in kg/height in m and its square"
   ]
  },
  {
   "cell_type": "code",
   "execution_count": 3,
   "id": "08c5d33c",
   "metadata": {
    "scrolled": true
   },
   "outputs": [
    {
     "name": "stdout",
     "output_type": "stream",
     "text": [
      "what is your height? 1.74\n"
     ]
    }
   ],
   "source": [
    "height = input(\"what is your height? \")"
   ]
  },
  {
   "cell_type": "code",
   "execution_count": 4,
   "id": "b6aea10c",
   "metadata": {},
   "outputs": [],
   "source": [
    "height = float(height)"
   ]
  },
  {
   "cell_type": "code",
   "execution_count": 5,
   "id": "1715cddb",
   "metadata": {},
   "outputs": [
    {
     "name": "stdout",
     "output_type": "stream",
     "text": [
      "what is your weight? 68\n"
     ]
    }
   ],
   "source": [
    "weight = input(\"what is your weight? \")"
   ]
  },
  {
   "cell_type": "code",
   "execution_count": 6,
   "id": "9677643e",
   "metadata": {},
   "outputs": [],
   "source": [
    "weight = float(weight)"
   ]
  },
  {
   "cell_type": "code",
   "execution_count": 7,
   "id": "1f5625f1",
   "metadata": {},
   "outputs": [
    {
     "name": "stdout",
     "output_type": "stream",
     "text": [
      "what is your name? waseem\n"
     ]
    }
   ],
   "source": [
    "name = input(\"what is your name? \")"
   ]
  },
  {
   "cell_type": "code",
   "execution_count": 8,
   "id": "89620e48",
   "metadata": {},
   "outputs": [
    {
     "data": {
      "text/plain": [
       "22.460034350640772"
      ]
     },
     "execution_count": 8,
     "metadata": {},
     "output_type": "execute_result"
    }
   ],
   "source": [
    "BMI = weight/height**2 \n",
    "BMI"
   ]
  },
  {
   "cell_type": "code",
   "execution_count": 10,
   "id": "3b4a272d",
   "metadata": {},
   "outputs": [
    {
     "name": "stdout",
     "output_type": "stream",
     "text": [
      "my name is waseem and my BMI is 22.460034350640772\n"
     ]
    }
   ],
   "source": [
    "print(\"my name is\", name, \"and my BMI is\", BMI)"
   ]
  }
 ],
 "metadata": {
  "kernelspec": {
   "display_name": "Python 3 (ipykernel)",
   "language": "python",
   "name": "python3"
  },
  "language_info": {
   "codemirror_mode": {
    "name": "ipython",
    "version": 3
   },
   "file_extension": ".py",
   "mimetype": "text/x-python",
   "name": "python",
   "nbconvert_exporter": "python",
   "pygments_lexer": "ipython3",
   "version": "3.9.12"
  }
 },
 "nbformat": 4,
 "nbformat_minor": 5
}
