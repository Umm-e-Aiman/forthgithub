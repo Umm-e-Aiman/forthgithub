{
 "cells": [
  {
   "cell_type": "markdown",
   "id": "c49e7c45",
   "metadata": {},
   "source": [
    "# -indexing"
   ]
  },
  {
   "cell_type": "code",
   "execution_count": 1,
   "id": "3ebf9284",
   "metadata": {},
   "outputs": [
    {
     "data": {
      "text/plain": [
       "'Samosa Pakora'"
      ]
     },
     "execution_count": 1,
     "metadata": {},
     "output_type": "execute_result"
    }
   ],
   "source": [
    "# make a string\n",
    "\n",
    "a = \"Samosa Pakora\"\n",
    "a"
   ]
  },
  {
   "cell_type": "code",
   "execution_count": 2,
   "id": "47373e9b",
   "metadata": {
    "scrolled": true
   },
   "outputs": [
    {
     "data": {
      "text/plain": [
       "'Samosa Pakora'"
      ]
     },
     "execution_count": 2,
     "metadata": {},
     "output_type": "execute_result"
    }
   ],
   "source": [
    "a"
   ]
  },
  {
   "cell_type": "code",
   "execution_count": 3,
   "id": "87f49cf3",
   "metadata": {},
   "outputs": [
    {
     "data": {
      "text/plain": [
       "13"
      ]
     },
     "execution_count": 3,
     "metadata": {},
     "output_type": "execute_result"
    }
   ],
   "source": [
    "# length of indeces\n",
    "len(a)"
   ]
  },
  {
   "cell_type": "code",
   "execution_count": 4,
   "id": "eed39a2b",
   "metadata": {},
   "outputs": [
    {
     "data": {
      "text/plain": [
       "'S'"
      ]
     },
     "execution_count": 4,
     "metadata": {},
     "output_type": "execute_result"
    }
   ],
   "source": [
    "a[0]"
   ]
  },
  {
   "cell_type": "code",
   "execution_count": 5,
   "id": "95694903",
   "metadata": {},
   "outputs": [
    {
     "data": {
      "text/plain": [
       "'a'"
      ]
     },
     "execution_count": 5,
     "metadata": {},
     "output_type": "execute_result"
    }
   ],
   "source": [
    "a[1]"
   ]
  },
  {
   "cell_type": "code",
   "execution_count": 6,
   "id": "bdf9ff87",
   "metadata": {},
   "outputs": [
    {
     "data": {
      "text/plain": [
       "'o'"
      ]
     },
     "execution_count": 6,
     "metadata": {},
     "output_type": "execute_result"
    }
   ],
   "source": [
    "a[3]"
   ]
  },
  {
   "cell_type": "code",
   "execution_count": 7,
   "id": "e4f2a2f8",
   "metadata": {},
   "outputs": [
    {
     "data": {
      "text/plain": [
       "'a'"
      ]
     },
     "execution_count": 7,
     "metadata": {},
     "output_type": "execute_result"
    }
   ],
   "source": [
    "a[12]"
   ]
  },
  {
   "cell_type": "code",
   "execution_count": 8,
   "id": "dbf660df",
   "metadata": {},
   "outputs": [
    {
     "data": {
      "text/plain": [
       "'Samos'"
      ]
     },
     "execution_count": 8,
     "metadata": {},
     "output_type": "execute_result"
    }
   ],
   "source": [
    "a[0:5]"
   ]
  },
  {
   "cell_type": "code",
   "execution_count": 9,
   "id": "ba81c7f5",
   "metadata": {},
   "outputs": [
    {
     "data": {
      "text/plain": [
       "'Samosa Pakora'"
      ]
     },
     "execution_count": 9,
     "metadata": {},
     "output_type": "execute_result"
    }
   ],
   "source": [
    "# last index is exclusive\n",
    "a[0:13]"
   ]
  },
  {
   "cell_type": "code",
   "execution_count": 10,
   "id": "a8a911e8",
   "metadata": {},
   "outputs": [
    {
     "data": {
      "text/plain": [
       "'Pakora'"
      ]
     },
     "execution_count": 10,
     "metadata": {},
     "output_type": "execute_result"
    }
   ],
   "source": [
    "a[-6:13]"
   ]
  },
  {
   "cell_type": "code",
   "execution_count": 11,
   "id": "e4311de4",
   "metadata": {},
   "outputs": [
    {
     "data": {
      "text/plain": [
       "'biryani'"
      ]
     },
     "execution_count": 11,
     "metadata": {},
     "output_type": "execute_result"
    }
   ],
   "source": [
    "food = \"biryani\"\n",
    "food"
   ]
  },
  {
   "cell_type": "markdown",
   "id": "672eaf03",
   "metadata": {},
   "source": [
    "## string methods"
   ]
  },
  {
   "cell_type": "code",
   "execution_count": 12,
   "id": "e60a01a0",
   "metadata": {},
   "outputs": [
    {
     "data": {
      "text/plain": [
       "'biryani'"
      ]
     },
     "execution_count": 12,
     "metadata": {},
     "output_type": "execute_result"
    }
   ],
   "source": [
    "food"
   ]
  },
  {
   "cell_type": "code",
   "execution_count": 13,
   "id": "8f121f80",
   "metadata": {},
   "outputs": [
    {
     "data": {
      "text/plain": [
       "7"
      ]
     },
     "execution_count": 13,
     "metadata": {},
     "output_type": "execute_result"
    }
   ],
   "source": [
    "len(food)"
   ]
  },
  {
   "cell_type": "code",
   "execution_count": 14,
   "id": "0f9309c8",
   "metadata": {},
   "outputs": [
    {
     "data": {
      "text/plain": [
       "'Biryani'"
      ]
     },
     "execution_count": 14,
     "metadata": {},
     "output_type": "execute_result"
    }
   ],
   "source": [
    "#capitalize every element\n",
    "food.capitalize()"
   ]
  },
  {
   "cell_type": "code",
   "execution_count": 15,
   "id": "85349848",
   "metadata": {},
   "outputs": [
    {
     "data": {
      "text/plain": [
       "'BIRYANI'"
      ]
     },
     "execution_count": 15,
     "metadata": {},
     "output_type": "execute_result"
    }
   ],
   "source": [
    "#uppercase letters\n",
    "food.upper()"
   ]
  },
  {
   "cell_type": "code",
   "execution_count": 16,
   "id": "76e4d51f",
   "metadata": {},
   "outputs": [
    {
     "data": {
      "text/plain": [
       "'biryani'"
      ]
     },
     "execution_count": 16,
     "metadata": {},
     "output_type": "execute_result"
    }
   ],
   "source": [
    "#lowercase letters\n",
    "food.lower()"
   ]
  },
  {
   "cell_type": "code",
   "execution_count": 17,
   "id": "9dab1359",
   "metadata": {},
   "outputs": [
    {
     "data": {
      "text/plain": [
       "'Shiryani'"
      ]
     },
     "execution_count": 17,
     "metadata": {},
     "output_type": "execute_result"
    }
   ],
   "source": [
    "#replace\n",
    "food.replace(\"b\", \"Sh\")"
   ]
  },
  {
   "cell_type": "code",
   "execution_count": 18,
   "id": "1b0158ca",
   "metadata": {},
   "outputs": [
    {
     "data": {
      "text/plain": [
       "'baba_aammar with Dr Aammar Tufail'"
      ]
     },
     "execution_count": 18,
     "metadata": {},
     "output_type": "execute_result"
    }
   ],
   "source": [
    "# counting aspecific alphabet in a string\n",
    "name = \"baba_aammar with Dr Aammar Tufail\"\n",
    "name"
   ]
  },
  {
   "cell_type": "code",
   "execution_count": 19,
   "id": "3f52e3ed",
   "metadata": {},
   "outputs": [
    {
     "data": {
      "text/plain": [
       "8"
      ]
     },
     "execution_count": 19,
     "metadata": {},
     "output_type": "execute_result"
    }
   ],
   "source": [
    "name.count(\"a\")"
   ]
  },
  {
   "cell_type": "markdown",
   "id": "484eac58",
   "metadata": {},
   "source": [
    "### - finding an index number in string"
   ]
  },
  {
   "cell_type": "code",
   "execution_count": 20,
   "id": "0288322a",
   "metadata": {},
   "outputs": [
    {
     "data": {
      "text/plain": [
       "'baba_aammar with Dr Aammar Tufail'"
      ]
     },
     "execution_count": 20,
     "metadata": {},
     "output_type": "execute_result"
    }
   ],
   "source": [
    "name = \"baba_aammar with Dr Aammar Tufail\"\n",
    "name"
   ]
  },
  {
   "cell_type": "code",
   "execution_count": 21,
   "id": "35de7673",
   "metadata": {},
   "outputs": [
    {
     "data": {
      "text/plain": [
       "17"
      ]
     },
     "execution_count": 21,
     "metadata": {},
     "output_type": "execute_result"
    }
   ],
   "source": [
    "name.find(\"D\")"
   ]
  },
  {
   "cell_type": "code",
   "execution_count": 22,
   "id": "56a705a3",
   "metadata": {},
   "outputs": [
    {
     "data": {
      "text/plain": [
       "'I love samosa, pakora, raita, biryani and karahi'"
      ]
     },
     "execution_count": 22,
     "metadata": {},
     "output_type": "execute_result"
    }
   ],
   "source": [
    "### - how to split a string\n",
    "food = \"I love samosa, pakora, raita, biryani and karahi\"\n",
    "food"
   ]
  },
  {
   "cell_type": "code",
   "execution_count": 23,
   "id": "0bc9d1e2",
   "metadata": {},
   "outputs": [
    {
     "data": {
      "text/plain": [
       "['I love samosa', ' pakora', ' raita', ' biryani and karahi']"
      ]
     },
     "execution_count": 23,
     "metadata": {},
     "output_type": "execute_result"
    }
   ],
   "source": [
    "food.split(\",\")"
   ]
  },
  {
   "cell_type": "markdown",
   "id": "8b770700",
   "metadata": {},
   "source": [
    "\n",
    "\n"
   ]
  },
  {
   "cell_type": "markdown",
   "id": "a1b8ade4",
   "metadata": {},
   "source": [
    "# Bsic data Structure in python \n",
    "\n",
    "**1-Tuple**\n",
    "\n",
    "**2-List**\n",
    "\n",
    "**3-Dictionaries**\n",
    "\n",
    "**4-Set**\n"
   ]
  },
  {
   "cell_type": "markdown",
   "id": "438d08b5",
   "metadata": {},
   "source": [
    "# 1-Tuple\n",
    "- ordered collection of elements\n",
    "- enclosed in () round braces/ paranthesis\n",
    "- different kind of elements can be stored\n",
    "- once element are stored you can not change them (unmatatable) \n"
   ]
  },
  {
   "cell_type": "code",
   "execution_count": 24,
   "id": "0b09093a",
   "metadata": {},
   "outputs": [
    {
     "data": {
      "text/plain": [
       "(1, 'python', True, 2.5)"
      ]
     },
     "execution_count": 24,
     "metadata": {},
     "output_type": "execute_result"
    }
   ],
   "source": [
    "tup1 = (1, \"python\", True, 2.5)\n",
    "tup1"
   ]
  },
  {
   "cell_type": "code",
   "execution_count": 25,
   "id": "221c9863",
   "metadata": {},
   "outputs": [
    {
     "data": {
      "text/plain": [
       "tuple"
      ]
     },
     "execution_count": 25,
     "metadata": {},
     "output_type": "execute_result"
    }
   ],
   "source": [
    "# type of a tuple\n",
    "type(tup1)"
   ]
  },
  {
   "cell_type": "markdown",
   "id": "2c3a18bf",
   "metadata": {},
   "source": [
    "### - Indexing in tuple"
   ]
  },
  {
   "cell_type": "code",
   "execution_count": 26,
   "id": "3d84a487",
   "metadata": {},
   "outputs": [
    {
     "data": {
      "text/plain": [
       "'python'"
      ]
     },
     "execution_count": 26,
     "metadata": {},
     "output_type": "execute_result"
    }
   ],
   "source": [
    "tup1[1]"
   ]
  },
  {
   "cell_type": "code",
   "execution_count": 27,
   "id": "3fb0f830",
   "metadata": {},
   "outputs": [
    {
     "data": {
      "text/plain": [
       "True"
      ]
     },
     "execution_count": 27,
     "metadata": {},
     "output_type": "execute_result"
    }
   ],
   "source": [
    "tup1[2]"
   ]
  },
  {
   "cell_type": "code",
   "execution_count": 28,
   "id": "b0a5d316",
   "metadata": {},
   "outputs": [
    {
     "data": {
      "text/plain": [
       "(1, 'python', True, 2.5)"
      ]
     },
     "execution_count": 28,
     "metadata": {},
     "output_type": "execute_result"
    }
   ],
   "source": [
    "tup1[0:4]"
   ]
  },
  {
   "cell_type": "code",
   "execution_count": 30,
   "id": "421692d3",
   "metadata": {},
   "outputs": [
    {
     "data": {
      "text/plain": [
       "(1, 'python', True)"
      ]
     },
     "execution_count": 30,
     "metadata": {},
     "output_type": "execute_result"
    }
   ],
   "source": [
    "#last element is exclusive\n",
    "tup1[0:3]"
   ]
  },
  {
   "cell_type": "code",
   "execution_count": 33,
   "id": "3eeab04d",
   "metadata": {},
   "outputs": [
    {
     "data": {
      "text/plain": [
       "4"
      ]
     },
     "execution_count": 33,
     "metadata": {},
     "output_type": "execute_result"
    }
   ],
   "source": [
    "#count of elements in tuple\n",
    "len(tup1)"
   ]
  },
  {
   "cell_type": "code",
   "execution_count": 36,
   "id": "32f26772",
   "metadata": {},
   "outputs": [
    {
     "data": {
      "text/plain": [
       "(2, 'baba aammar', 3.5, False)"
      ]
     },
     "execution_count": 36,
     "metadata": {},
     "output_type": "execute_result"
    }
   ],
   "source": [
    "tup2 = (2, \"baba aammar\", 3.5, False)\n",
    "tup2"
   ]
  },
  {
   "cell_type": "code",
   "execution_count": 37,
   "id": "940a15a8",
   "metadata": {},
   "outputs": [
    {
     "data": {
      "text/plain": [
       "(1, 'python', True, 2.5, 2, 'baba aammar', 3.5, False)"
      ]
     },
     "execution_count": 37,
     "metadata": {},
     "output_type": "execute_result"
    }
   ],
   "source": [
    "#concatinate (to add two tuples or more then two)\n",
    "tup1 + tup2"
   ]
  },
  {
   "cell_type": "code",
   "execution_count": 41,
   "id": "fd8af628",
   "metadata": {},
   "outputs": [
    {
     "data": {
      "text/plain": [
       "(1, 'python', True, 2.5, 1, 'python', True, 2.5, 2, 'baba aammar', 3.5, False)"
      ]
     },
     "execution_count": 41,
     "metadata": {},
     "output_type": "execute_result"
    }
   ],
   "source": [
    "#cocatinate + repeat\n",
    "tup1*2 + tup2"
   ]
  },
  {
   "cell_type": "code",
   "execution_count": 42,
   "id": "b04d702a",
   "metadata": {},
   "outputs": [
    {
     "data": {
      "text/plain": [
       "(480, 4233, 34, 43, 76453)"
      ]
     },
     "execution_count": 42,
     "metadata": {},
     "output_type": "execute_result"
    }
   ],
   "source": [
    "tup3 = (480,4233,34,43,76453)\n",
    "tup3"
   ]
  },
  {
   "cell_type": "code",
   "execution_count": 43,
   "id": "5bbdaa2b",
   "metadata": {},
   "outputs": [
    {
     "data": {
      "text/plain": [
       "34"
      ]
     },
     "execution_count": 43,
     "metadata": {},
     "output_type": "execute_result"
    }
   ],
   "source": [
    "#minimum\n",
    "min(tup3)"
   ]
  },
  {
   "cell_type": "code",
   "execution_count": 44,
   "id": "c62e7b88",
   "metadata": {},
   "outputs": [
    {
     "data": {
      "text/plain": [
       "76453"
      ]
     },
     "execution_count": 44,
     "metadata": {},
     "output_type": "execute_result"
    }
   ],
   "source": [
    "#maximum\n",
    "max(tup3)"
   ]
  },
  {
   "cell_type": "code",
   "execution_count": 47,
   "id": "7ad68ed2",
   "metadata": {},
   "outputs": [
    {
     "data": {
      "text/plain": [
       "(480, 4233, 34, 43, 76453, 480, 4233, 34, 43, 76453)"
      ]
     },
     "execution_count": 47,
     "metadata": {},
     "output_type": "execute_result"
    }
   ],
   "source": [
    "tup3*2"
   ]
  },
  {
   "cell_type": "markdown",
   "id": "017b10e9",
   "metadata": {},
   "source": [
    "---"
   ]
  },
  {
   "cell_type": "markdown",
   "id": "c859dc12",
   "metadata": {},
   "source": [
    "## 2- list\n",
    "- order collection of elements\n",
    "- enclosed in [ ] square braces/bracket\n",
    "- mutatable, you can change the values"
   ]
  },
  {
   "cell_type": "code",
   "execution_count": 49,
   "id": "b69c3b92",
   "metadata": {},
   "outputs": [
    {
     "data": {
      "text/plain": [
       "[2, 'baba aammar', False]"
      ]
     },
     "execution_count": 49,
     "metadata": {},
     "output_type": "execute_result"
    }
   ],
   "source": [
    "list1 = [2, \"baba aammar\", False]\n",
    "list1"
   ]
  },
  {
   "cell_type": "code",
   "execution_count": 50,
   "id": "91fc083d",
   "metadata": {},
   "outputs": [
    {
     "data": {
      "text/plain": [
       "list"
      ]
     },
     "execution_count": 50,
     "metadata": {},
     "output_type": "execute_result"
    }
   ],
   "source": [
    "type (list1)"
   ]
  },
  {
   "cell_type": "code",
   "execution_count": 51,
   "id": "b2129925",
   "metadata": {},
   "outputs": [
    {
     "data": {
      "text/plain": [
       "3"
      ]
     },
     "execution_count": 51,
     "metadata": {},
     "output_type": "execute_result"
    }
   ],
   "source": [
    "len(list1)"
   ]
  },
  {
   "cell_type": "code",
   "execution_count": 52,
   "id": "e5b480e8",
   "metadata": {},
   "outputs": [
    {
     "data": {
      "text/plain": [
       "False"
      ]
     },
     "execution_count": 52,
     "metadata": {},
     "output_type": "execute_result"
    }
   ],
   "source": [
    "list1[2]"
   ]
  },
  {
   "cell_type": "code",
   "execution_count": 53,
   "id": "c66a54e4",
   "metadata": {},
   "outputs": [
    {
     "data": {
      "text/plain": [
       "[3, 5, 'Aammar', 'Codanics', 478, 53.2, False]"
      ]
     },
     "execution_count": 53,
     "metadata": {},
     "output_type": "execute_result"
    }
   ],
   "source": [
    "list2 = [3, 5, \"Aammar\", \"Codanics\", 478, 53.2, False]\n",
    "list2"
   ]
  },
  {
   "cell_type": "code",
   "execution_count": 54,
   "id": "b3777720",
   "metadata": {},
   "outputs": [
    {
     "data": {
      "text/plain": [
       "[2, 'baba aammar', False, 3, 5, 'Aammar', 'Codanics', 478, 53.2, False]"
      ]
     },
     "execution_count": 54,
     "metadata": {},
     "output_type": "execute_result"
    }
   ],
   "source": [
    "list1 + list2"
   ]
  },
  {
   "cell_type": "code",
   "execution_count": 55,
   "id": "61792c19",
   "metadata": {},
   "outputs": [
    {
     "data": {
      "text/plain": [
       "[2, 'baba aammar', False, 2, 'baba aammar', False]"
      ]
     },
     "execution_count": 55,
     "metadata": {},
     "output_type": "execute_result"
    }
   ],
   "source": [
    "list1*2"
   ]
  },
  {
   "cell_type": "code",
   "execution_count": 68,
   "id": "04a3b706",
   "metadata": {
    "scrolled": true
   },
   "outputs": [
    {
     "data": {
      "text/plain": [
       "[False, 'baba aammar', 2]"
      ]
     },
     "execution_count": 68,
     "metadata": {},
     "output_type": "execute_result"
    }
   ],
   "source": [
    "list1"
   ]
  },
  {
   "cell_type": "code",
   "execution_count": 69,
   "id": "62fa2a34",
   "metadata": {},
   "outputs": [
    {
     "data": {
      "text/plain": [
       "[2, 'baba aammar', False]"
      ]
     },
     "execution_count": 69,
     "metadata": {},
     "output_type": "execute_result"
    }
   ],
   "source": [
    "list1.reverse()\n",
    "list1"
   ]
  },
  {
   "cell_type": "code",
   "execution_count": 73,
   "id": "754c34c7",
   "metadata": {},
   "outputs": [
    {
     "data": {
      "text/plain": [
       "[2,\n",
       " 'baba aammar',\n",
       " False,\n",
       " 'Codanics Youtube Channel',\n",
       " 'Codanics Youtube Channel',\n",
       " 'Codanics Youtube Channel',\n",
       " 'Codanics Youtube Channel']"
      ]
     },
     "execution_count": 73,
     "metadata": {},
     "output_type": "execute_result"
    }
   ],
   "source": [
    "list1.append(\"Codanics Youtube Channel\")\n",
    "list1"
   ]
  },
  {
   "cell_type": "code",
   "execution_count": 75,
   "id": "42837537",
   "metadata": {},
   "outputs": [
    {
     "data": {
      "text/plain": [
       "0"
      ]
     },
     "execution_count": 75,
     "metadata": {},
     "output_type": "execute_result"
    }
   ],
   "source": [
    "list1.count(\"Channel\")\n",
    "#list.count function"
   ]
  },
  {
   "cell_type": "code",
   "execution_count": 76,
   "id": "43fe001e",
   "metadata": {},
   "outputs": [
    {
     "data": {
      "text/plain": [
       "[20, 30, 35, 50, 40, 12, 15, 11, 10, 356, 56, 886]"
      ]
     },
     "execution_count": 76,
     "metadata": {},
     "output_type": "execute_result"
    }
   ],
   "source": [
    "list3 = [20, 30, 35, 50, 40, 12, 15, 11, 10, 356, 56, 886]\n",
    "list3"
   ]
  },
  {
   "cell_type": "code",
   "execution_count": 77,
   "id": "ddc0b9dd",
   "metadata": {},
   "outputs": [
    {
     "data": {
      "text/plain": [
       "12"
      ]
     },
     "execution_count": 77,
     "metadata": {},
     "output_type": "execute_result"
    }
   ],
   "source": [
    "len(list3)"
   ]
  },
  {
   "cell_type": "code",
   "execution_count": 78,
   "id": "464455b2",
   "metadata": {},
   "outputs": [
    {
     "data": {
      "text/plain": [
       "[10, 11, 12, 15, 20, 30, 35, 40, 50, 56, 356, 886]"
      ]
     },
     "execution_count": 78,
     "metadata": {},
     "output_type": "execute_result"
    }
   ],
   "source": [
    "#sorting a list\n",
    "list3.sort()\n",
    "list3"
   ]
  },
  {
   "cell_type": "code",
   "execution_count": 82,
   "id": "2de031ee",
   "metadata": {
    "scrolled": true
   },
   "outputs": [
    {
     "data": {
      "text/plain": [
       "[10,\n",
       " 11,\n",
       " 12,\n",
       " 15,\n",
       " 20,\n",
       " 30,\n",
       " 35,\n",
       " 40,\n",
       " 50,\n",
       " 56,\n",
       " 356,\n",
       " 886,\n",
       " 10,\n",
       " 11,\n",
       " 12,\n",
       " 15,\n",
       " 20,\n",
       " 30,\n",
       " 35,\n",
       " 40,\n",
       " 50,\n",
       " 56,\n",
       " 356,\n",
       " 886,\n",
       " 10,\n",
       " 11,\n",
       " 12,\n",
       " 15,\n",
       " 20,\n",
       " 30,\n",
       " 35,\n",
       " 40,\n",
       " 50,\n",
       " 56,\n",
       " 356,\n",
       " 886]"
      ]
     },
     "execution_count": 82,
     "metadata": {},
     "output_type": "execute_result"
    }
   ],
   "source": [
    "list3*3"
   ]
  },
  {
   "cell_type": "code",
   "execution_count": 84,
   "id": "576b06d7",
   "metadata": {},
   "outputs": [
    {
     "data": {
      "text/plain": [
       "[2,\n",
       " 'baba aammar',\n",
       " False,\n",
       " 'Codanics Youtube Channel',\n",
       " 'Codanics Youtube Channel',\n",
       " 'Codanics Youtube Channel',\n",
       " 'Codanics Youtube Channel',\n",
       " 3,\n",
       " 5,\n",
       " 'Aammar',\n",
       " 'Codanics',\n",
       " 478,\n",
       " 53.2,\n",
       " False]"
      ]
     },
     "execution_count": 84,
     "metadata": {},
     "output_type": "execute_result"
    }
   ],
   "source": [
    "lists = list1+list2\n",
    "lists"
   ]
  },
  {
   "cell_type": "markdown",
   "id": "e7882466",
   "metadata": {},
   "source": [
    "## 3- Dictionaries\n",
    "- An unordered collection of elements\n",
    "- Key and Value\n",
    "- curly braces or brackets { }\n",
    "- Mutatable/Change the values"
   ]
  },
  {
   "cell_type": "code",
   "execution_count": 88,
   "id": "cdd26785",
   "metadata": {},
   "outputs": [
    {
     "data": {
      "text/plain": [
       "{'Samosa': 30, 'Pakora': 100, 'Raita': 20, 'Salad': 50, 'Chicken Rolls': 30}"
      ]
     },
     "execution_count": 88,
     "metadata": {},
     "output_type": "execute_result"
    }
   ],
   "source": [
    "#Food and their prices\n",
    "food1 = {\"Samosa\":30, \"Pakora\":100, \"Raita\":20, \"Salad\":50, \"Chicken Rolls\":30}\n",
    "food1"
   ]
  },
  {
   "cell_type": "code",
   "execution_count": 89,
   "id": "69a2b9e8",
   "metadata": {},
   "outputs": [
    {
     "data": {
      "text/plain": [
       "dict"
      ]
     },
     "execution_count": 89,
     "metadata": {},
     "output_type": "execute_result"
    }
   ],
   "source": [
    "type(food1)"
   ]
  },
  {
   "cell_type": "code",
   "execution_count": 91,
   "id": "57c8151f",
   "metadata": {},
   "outputs": [
    {
     "data": {
      "text/plain": [
       "dict_keys(['Samosa', 'Pakora', 'Raita', 'Salad', 'Chicken Rolls'])"
      ]
     },
     "execution_count": 91,
     "metadata": {},
     "output_type": "execute_result"
    }
   ],
   "source": [
    "# extract data\n",
    "Keys1 = food1.keys()\n",
    "Keys1"
   ]
  },
  {
   "cell_type": "code",
   "execution_count": 93,
   "id": "65fecf78",
   "metadata": {},
   "outputs": [
    {
     "data": {
      "text/plain": [
       "dict_values([30, 100, 20, 50, 30])"
      ]
     },
     "execution_count": 93,
     "metadata": {},
     "output_type": "execute_result"
    }
   ],
   "source": [
    "values1 = food1.values()\n",
    "values1"
   ]
  },
  {
   "cell_type": "code",
   "execution_count": null,
   "id": "ba791b00",
   "metadata": {},
   "outputs": [],
   "source": [
    "food1.update"
   ]
  },
  {
   "cell_type": "code",
   "execution_count": 94,
   "id": "eb47310f",
   "metadata": {},
   "outputs": [
    {
     "data": {
      "text/plain": [
       "{'Samosa': 30,\n",
       " 'Pakora': 100,\n",
       " 'Raita': 20,\n",
       " 'Salad': 50,\n",
       " 'Chicken Rolls': 30,\n",
       " 'tikki': 10}"
      ]
     },
     "execution_count": 94,
     "metadata": {},
     "output_type": "execute_result"
    }
   ],
   "source": [
    "#adding new element\n",
    "food1[\"tikki\"]=10\n",
    "food1"
   ]
  },
  {
   "cell_type": "code",
   "execution_count": 96,
   "id": "aafd7a4e",
   "metadata": {},
   "outputs": [
    {
     "data": {
      "text/plain": [
       "{'Samosa': 30,\n",
       " 'Pakora': 100,\n",
       " 'Raita': 20,\n",
       " 'Salad': 50,\n",
       " 'Chicken Rolls': 30,\n",
       " 'tikki': 15}"
      ]
     },
     "execution_count": 96,
     "metadata": {},
     "output_type": "execute_result"
    }
   ],
   "source": [
    "# update the values\n",
    "food1[\"tikki\"]= 15\n",
    "food1"
   ]
  },
  {
   "cell_type": "code",
   "execution_count": 125,
   "id": "ab3cad2d",
   "metadata": {},
   "outputs": [
    {
     "data": {
      "text/plain": [
       "{'Dates': 50, 'Choclates': 200, 'Swayya': 1000}"
      ]
     },
     "execution_count": 125,
     "metadata": {},
     "output_type": "execute_result"
    }
   ],
   "source": [
    "food2 = {\"Dates\": 50, \"Choclates\": 200, \"Swayya\": 1000}\n",
    "food2"
   ]
  },
  {
   "cell_type": "code",
   "execution_count": 127,
   "id": "2f907f3f",
   "metadata": {},
   "outputs": [],
   "source": [
    "#concatinate\n",
    "food1.update(food2)"
   ]
  },
  {
   "cell_type": "code",
   "execution_count": 128,
   "id": "59be1560",
   "metadata": {},
   "outputs": [
    {
     "data": {
      "text/plain": [
       "{'Samosa': 30,\n",
       " 'Pakora': 100,\n",
       " 'Raita': 20,\n",
       " 'Salad': 50,\n",
       " 'Chicken Rolls': 30,\n",
       " 'tikki': 15,\n",
       " 'Dates': 50,\n",
       " 'Choclates': 200,\n",
       " 'Swayya': 1000}"
      ]
     },
     "execution_count": 128,
     "metadata": {},
     "output_type": "execute_result"
    }
   ],
   "source": [
    "food1"
   ]
  },
  {
   "cell_type": "markdown",
   "id": "9bbf2507",
   "metadata": {},
   "source": [
    "## 4-Set\n",
    "- unorderd and unindexed\n",
    "- curly braces are used { }\n",
    "- No duplicates allowed"
   ]
  },
  {
   "cell_type": "code",
   "execution_count": 129,
   "id": "f5ba1083",
   "metadata": {},
   "outputs": [
    {
     "data": {
      "text/plain": [
       "{1, 2, 3, 5.2, 'Aammer', 'Codanics', 'Faisalabad'}"
      ]
     },
     "execution_count": 129,
     "metadata": {},
     "output_type": "execute_result"
    }
   ],
   "source": [
    "s1 = {1, 2, 3, 5.2, \"Aammer\", \"Codanics\", \"Faisalabad\", True}\n",
    "s1"
   ]
  },
  {
   "cell_type": "code",
   "execution_count": 132,
   "id": "16204728",
   "metadata": {},
   "outputs": [],
   "source": [
    "s1.add(\"Aammar1\")"
   ]
  },
  {
   "cell_type": "code",
   "execution_count": 133,
   "id": "24e59aa0",
   "metadata": {},
   "outputs": [
    {
     "data": {
      "text/plain": [
       "{1, 2, 3, 5.2, 'Aammar', 'Aammar1', 'Aammer', 'Codanics', 'Faisalabad'}"
      ]
     },
     "execution_count": 133,
     "metadata": {},
     "output_type": "execute_result"
    }
   ],
   "source": [
    "s1"
   ]
  },
  {
   "cell_type": "code",
   "execution_count": 134,
   "id": "efdb3d71",
   "metadata": {},
   "outputs": [
    {
     "data": {
      "text/plain": [
       "{1, 2, 3, 5.2, 'Aammar', 'Aammer', 'Codanics', 'Faisalabad'}"
      ]
     },
     "execution_count": 134,
     "metadata": {},
     "output_type": "execute_result"
    }
   ],
   "source": [
    "s1.remove(\"Aammar1\")\n",
    "s1"
   ]
  }
 ],
 "metadata": {
  "kernelspec": {
   "display_name": "Python 3 (ipykernel)",
   "language": "python",
   "name": "python3"
  },
  "language_info": {
   "codemirror_mode": {
    "name": "ipython",
    "version": 3
   },
   "file_extension": ".py",
   "mimetype": "text/x-python",
   "name": "python",
   "nbconvert_exporter": "python",
   "pygments_lexer": "ipython3",
   "version": "3.9.12"
  }
 },
 "nbformat": 4,
 "nbformat_minor": 5
}
