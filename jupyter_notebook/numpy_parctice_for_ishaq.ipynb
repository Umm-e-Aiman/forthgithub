{
 "cells": [
  {
   "cell_type": "markdown",
   "id": "91f4301f",
   "metadata": {},
   "source": [
    "# numpy practice session"
   ]
  },
  {
   "cell_type": "code",
   "execution_count": null,
   "id": "667d3dc8",
   "metadata": {},
   "outputs": [],
   "source": [
    "#pip install numpy"
   ]
  },
  {
   "cell_type": "code",
   "execution_count": 1,
   "id": "a25c0f50",
   "metadata": {},
   "outputs": [],
   "source": [
    "# import this library in j.notebook\n",
    "import numpy as np"
   ]
  },
  {
   "cell_type": "markdown",
   "id": "b35bd3cb",
   "metadata": {},
   "source": [
    "# creating an array using numpy"
   ]
  },
  {
   "cell_type": "code",
   "execution_count": 4,
   "id": "2d74d946",
   "metadata": {},
   "outputs": [
    {
     "data": {
      "text/plain": [
       "array(['pakora', 'samosa', 'raita'], dtype='<U6')"
      ]
     },
     "execution_count": 4,
     "metadata": {},
     "output_type": "execute_result"
    }
   ],
   "source": [
    "food = np.array([\"pakora\", \"samosa\", \"raita\"])\n",
    "food"
   ]
  },
  {
   "cell_type": "code",
   "execution_count": 5,
   "id": "b8219849",
   "metadata": {},
   "outputs": [
    {
     "data": {
      "text/plain": [
       "array([5, 5, 5])"
      ]
     },
     "execution_count": 5,
     "metadata": {},
     "output_type": "execute_result"
    }
   ],
   "source": [
    "price = np. array([5, 5, 5])\n",
    "price"
   ]
  },
  {
   "cell_type": "code",
   "execution_count": 7,
   "id": "ecd89cb7",
   "metadata": {},
   "outputs": [
    {
     "data": {
      "text/plain": [
       "numpy.ndarray"
      ]
     },
     "execution_count": 7,
     "metadata": {},
     "output_type": "execute_result"
    }
   ],
   "source": [
    "type(price)"
   ]
  },
  {
   "cell_type": "code",
   "execution_count": 8,
   "id": "1255eeaf",
   "metadata": {},
   "outputs": [
    {
     "data": {
      "text/plain": [
       "numpy.ndarray"
      ]
     },
     "execution_count": 8,
     "metadata": {},
     "output_type": "execute_result"
    }
   ],
   "source": [
    "type(food)"
   ]
  },
  {
   "cell_type": "code",
   "execution_count": 10,
   "id": "b34f5214",
   "metadata": {},
   "outputs": [
    {
     "data": {
      "text/plain": [
       "3"
      ]
     },
     "execution_count": 10,
     "metadata": {},
     "output_type": "execute_result"
    }
   ],
   "source": [
    "len(food)"
   ]
  },
  {
   "cell_type": "code",
   "execution_count": 13,
   "id": "f11c29f0",
   "metadata": {},
   "outputs": [
    {
     "data": {
      "text/plain": [
       "array([5, 5, 5])"
      ]
     },
     "execution_count": 13,
     "metadata": {},
     "output_type": "execute_result"
    }
   ],
   "source": [
    "price[0:]"
   ]
  },
  {
   "cell_type": "code",
   "execution_count": 16,
   "id": "b35b1a0e",
   "metadata": {},
   "outputs": [
    {
     "data": {
      "text/plain": [
       "'samosa'"
      ]
     },
     "execution_count": 16,
     "metadata": {},
     "output_type": "execute_result"
    }
   ],
   "source": [
    "food[1]"
   ]
  },
  {
   "cell_type": "code",
   "execution_count": 17,
   "id": "6ba6a595",
   "metadata": {},
   "outputs": [
    {
     "data": {
      "text/plain": [
       "5.0"
      ]
     },
     "execution_count": 17,
     "metadata": {},
     "output_type": "execute_result"
    }
   ],
   "source": [
    "price.mean()"
   ]
  },
  {
   "cell_type": "code",
   "execution_count": 20,
   "id": "b47d8011",
   "metadata": {},
   "outputs": [
    {
     "data": {
      "text/plain": [
       "array([0., 0., 0., 0., 0., 0.])"
      ]
     },
     "execution_count": 20,
     "metadata": {},
     "output_type": "execute_result"
    }
   ],
   "source": [
    "# zero\n",
    "np.zeros(6)"
   ]
  },
  {
   "cell_type": "code",
   "execution_count": 21,
   "id": "436c1778",
   "metadata": {},
   "outputs": [
    {
     "data": {
      "text/plain": [
       "array([1., 1., 1., 1., 1.])"
      ]
     },
     "execution_count": 21,
     "metadata": {},
     "output_type": "execute_result"
    }
   ],
   "source": [
    "# ones\n",
    "np.ones(5)"
   ]
  },
  {
   "cell_type": "code",
   "execution_count": 22,
   "id": "881835e7",
   "metadata": {},
   "outputs": [
    {
     "data": {
      "text/plain": [
       "array([1., 1., 1., 1., 1.])"
      ]
     },
     "execution_count": 22,
     "metadata": {},
     "output_type": "execute_result"
    }
   ],
   "source": [
    "# empty\n",
    "np.empty(5)"
   ]
  },
  {
   "cell_type": "code",
   "execution_count": 23,
   "id": "244589d3",
   "metadata": {},
   "outputs": [
    {
     "data": {
      "text/plain": [
       "array([0, 1, 2, 3, 4, 5, 6, 7, 8, 9])"
      ]
     },
     "execution_count": 23,
     "metadata": {},
     "output_type": "execute_result"
    }
   ],
   "source": [
    "# range\n",
    "np.arange(10)"
   ]
  },
  {
   "cell_type": "code",
   "execution_count": 25,
   "id": "60ae4697",
   "metadata": {},
   "outputs": [
    {
     "data": {
      "text/plain": [
       "array([ 2,  3,  4,  5,  6,  7,  8,  9, 10, 11, 12, 13, 14, 15, 16, 17, 18,\n",
       "       19])"
      ]
     },
     "execution_count": 25,
     "metadata": {},
     "output_type": "execute_result"
    }
   ],
   "source": [
    "# specify\n",
    "np.arange(2, 20)"
   ]
  },
  {
   "cell_type": "code",
   "execution_count": 26,
   "id": "f3ef3b04",
   "metadata": {},
   "outputs": [
    {
     "data": {
      "text/plain": [
       "array([ 2,  4,  6,  8, 10, 12, 14, 16, 18])"
      ]
     },
     "execution_count": 26,
     "metadata": {},
     "output_type": "execute_result"
    }
   ],
   "source": [
    "# specific interval\n",
    "np. arange(2, 20, 2)"
   ]
  },
  {
   "cell_type": "code",
   "execution_count": 30,
   "id": "fbe4752b",
   "metadata": {},
   "outputs": [
    {
     "data": {
      "text/plain": [
       "array([ 5, 10, 15, 20, 25, 30, 35, 40, 45, 50])"
      ]
     },
     "execution_count": 30,
     "metadata": {},
     "output_type": "execute_result"
    }
   ],
   "source": [
    "# table of 5\n",
    "np.arange(5, 55, 5)"
   ]
  },
  {
   "cell_type": "code",
   "execution_count": 37,
   "id": "0f62b585",
   "metadata": {},
   "outputs": [
    {
     "data": {
      "text/plain": [
       "array([ 1.  ,  3.25,  5.5 ,  7.75, 10.  ])"
      ]
     },
     "execution_count": 37,
     "metadata": {},
     "output_type": "execute_result"
    }
   ],
   "source": [
    "# line space\n",
    "np.linspace(1, 10, num=5)"
   ]
  },
  {
   "cell_type": "code",
   "execution_count": 40,
   "id": "ef82029a",
   "metadata": {
    "scrolled": true
   },
   "outputs": [
    {
     "data": {
      "text/plain": [
       "array([1, 1, 1, 1, 1, 1, 1, 1, 1, 1, 1, 1, 1, 1, 1, 1, 1, 1, 1, 1, 1, 1,\n",
       "       1, 1, 1, 1, 1, 1, 1, 1, 1, 1, 1, 1, 1, 1, 1, 1, 1, 1, 1, 1, 1, 1,\n",
       "       1, 1, 1, 1, 1, 1], dtype=int64)"
      ]
     },
     "execution_count": 40,
     "metadata": {},
     "output_type": "execute_result"
    }
   ],
   "source": [
    "# specify your data type\n",
    "np.ones(50, dtype=np.int64)"
   ]
  },
  {
   "cell_type": "code",
   "execution_count": 41,
   "id": "791a8e4d",
   "metadata": {},
   "outputs": [
    {
     "data": {
      "text/plain": [
       "array([1., 1., 1., 1., 1., 1., 1., 1., 1., 1., 1., 1., 1., 1., 1., 1., 1.,\n",
       "       1., 1., 1., 1., 1., 1., 1., 1., 1., 1., 1., 1., 1., 1., 1., 1., 1.,\n",
       "       1., 1., 1., 1., 1., 1., 1., 1., 1., 1., 1., 1., 1., 1., 1., 1.])"
      ]
     },
     "execution_count": 41,
     "metadata": {},
     "output_type": "execute_result"
    }
   ],
   "source": [
    "np.ones(50, dtype=np.float64)"
   ]
  },
  {
   "cell_type": "markdown",
   "id": "f14ee88a",
   "metadata": {},
   "source": [
    "# Array functions"
   ]
  },
  {
   "cell_type": "code",
   "execution_count": 43,
   "id": "ec4770ca",
   "metadata": {},
   "outputs": [
    {
     "data": {
      "text/plain": [
       "array([ 10. ,  12. ,  15. ,   2. ,   4. ,   6. , 100. , 320. ,   0.5,\n",
       "        10.3])"
      ]
     },
     "execution_count": 43,
     "metadata": {},
     "output_type": "execute_result"
    }
   ],
   "source": [
    "a = np.array([10,12,15,2,4,6,100,320,0.5,10.3])\n",
    "a"
   ]
  },
  {
   "cell_type": "code",
   "execution_count": 44,
   "id": "684c93eb",
   "metadata": {},
   "outputs": [
    {
     "data": {
      "text/plain": [
       "array([  0.5,   2. ,   4. ,   6. ,  10. ,  10.3,  12. ,  15. , 100. ,\n",
       "       320. ])"
      ]
     },
     "execution_count": 44,
     "metadata": {},
     "output_type": "execute_result"
    }
   ],
   "source": [
    "a.sort()\n",
    "a"
   ]
  },
  {
   "cell_type": "code",
   "execution_count": 45,
   "id": "ee380348",
   "metadata": {},
   "outputs": [
    {
     "data": {
      "text/plain": [
       "array([10.2,  3.4, 53.6, 91.6, 45.5])"
      ]
     },
     "execution_count": 45,
     "metadata": {},
     "output_type": "execute_result"
    }
   ],
   "source": [
    "b = np.array([10.2,3.4,53.6,91.6,45.5])\n",
    "b"
   ]
  },
  {
   "cell_type": "code",
   "execution_count": 47,
   "id": "cfc6a69e",
   "metadata": {},
   "outputs": [
    {
     "data": {
      "text/plain": [
       "array([  0.5,   2. ,   4. ,   6. ,  10. ,  10.3,  12. ,  15. , 100. ,\n",
       "       320. ,  10.2,   3.4,  53.6,  91.6,  45.5])"
      ]
     },
     "execution_count": 47,
     "metadata": {},
     "output_type": "execute_result"
    }
   ],
   "source": [
    "c = np.concatenate((a,b))\n",
    "c"
   ]
  },
  {
   "cell_type": "code",
   "execution_count": 48,
   "id": "b14007a4",
   "metadata": {},
   "outputs": [
    {
     "data": {
      "text/plain": [
       "array([  0.5,   2. ,   3.4,   4. ,   6. ,  10. ,  10.2,  10.3,  12. ,\n",
       "        15. ,  45.5,  53.6,  91.6, 100. , 320. ])"
      ]
     },
     "execution_count": 48,
     "metadata": {},
     "output_type": "execute_result"
    }
   ],
   "source": [
    "c.sort()\n",
    "c"
   ]
  },
  {
   "cell_type": "markdown",
   "id": "a4ca09b6",
   "metadata": {},
   "source": [
    "# 2-D arrays"
   ]
  },
  {
   "cell_type": "code",
   "execution_count": 64,
   "id": "a8ce8a85",
   "metadata": {},
   "outputs": [
    {
     "data": {
      "text/plain": [
       "array([[1, 2],\n",
       "       [5, 4]])"
      ]
     },
     "execution_count": 64,
     "metadata": {},
     "output_type": "execute_result"
    }
   ],
   "source": [
    "x = np. array([[1,2], [5,4]])\n",
    "x"
   ]
  },
  {
   "cell_type": "code",
   "execution_count": 60,
   "id": "3b6f6a30",
   "metadata": {},
   "outputs": [
    {
     "data": {
      "text/plain": [
       "array([[6, 7],\n",
       "       [7, 8]])"
      ]
     },
     "execution_count": 60,
     "metadata": {},
     "output_type": "execute_result"
    }
   ],
   "source": [
    "y = np.array([[6,7], [7,8]])\n",
    "y"
   ]
  },
  {
   "cell_type": "code",
   "execution_count": 68,
   "id": "da3996d2",
   "metadata": {},
   "outputs": [
    {
     "data": {
      "text/plain": [
       "array([[1, 2],\n",
       "       [5, 4],\n",
       "       [6, 7],\n",
       "       [7, 8]])"
      ]
     },
     "execution_count": 68,
     "metadata": {},
     "output_type": "execute_result"
    }
   ],
   "source": [
    "np.concatenate((x,y), axis=0)"
   ]
  },
  {
   "cell_type": "code",
   "execution_count": 69,
   "id": "429a3e81",
   "metadata": {},
   "outputs": [
    {
     "data": {
      "text/plain": [
       "array([[1, 2, 6, 7],\n",
       "       [5, 4, 7, 8]])"
      ]
     },
     "execution_count": 69,
     "metadata": {},
     "output_type": "execute_result"
    }
   ],
   "source": [
    "np.concatenate((x,y), axis=1)"
   ]
  },
  {
   "cell_type": "code",
   "execution_count": 70,
   "id": "90771b0e",
   "metadata": {},
   "outputs": [
    {
     "data": {
      "text/plain": [
       "array([[[0, 1, 2, 3],\n",
       "        [4, 5, 6, 7]],\n",
       "\n",
       "       [[0, 1, 2, 3],\n",
       "        [4, 5, 6, 7]],\n",
       "\n",
       "       [[0, 1, 2, 3],\n",
       "        [4, 5, 6, 7]]])"
      ]
     },
     "execution_count": 70,
     "metadata": {},
     "output_type": "execute_result"
    }
   ],
   "source": [
    "a = np.array([[[0, 1, 2, 3],\n",
    "                           [4, 5, 6, 7]],\n",
    "                         \n",
    "                          [[0, 1, 2, 3],\n",
    "                           [4, 5, 6, 7]],\n",
    "                          \n",
    "                          [[0, 1, 2, 3],\n",
    "                           [4, 5, 6, 7]]])\n",
    "a"
   ]
  },
  {
   "cell_type": "code",
   "execution_count": 72,
   "id": "0d3c2e8f",
   "metadata": {},
   "outputs": [
    {
     "data": {
      "text/plain": [
       "3"
      ]
     },
     "execution_count": 72,
     "metadata": {},
     "output_type": "execute_result"
    }
   ],
   "source": [
    "# to find the number of dimension\n",
    "a.ndim"
   ]
  },
  {
   "cell_type": "code",
   "execution_count": 76,
   "id": "7dac9d8b",
   "metadata": {},
   "outputs": [
    {
     "data": {
      "text/plain": [
       "numpy.ndarray"
      ]
     },
     "execution_count": 76,
     "metadata": {},
     "output_type": "execute_result"
    }
   ],
   "source": [
    "type(a)"
   ]
  },
  {
   "cell_type": "code",
   "execution_count": 74,
   "id": "2b233c3c",
   "metadata": {},
   "outputs": [
    {
     "data": {
      "text/plain": [
       "array([[ 5,  6,  7],\n",
       "       [ 8,  9, 10],\n",
       "       [10, 11, 12]])"
      ]
     },
     "execution_count": 74,
     "metadata": {},
     "output_type": "execute_result"
    }
   ],
   "source": [
    "b = np.array([[5,6,7],\n",
    "             [8,9,10],\n",
    "             [10,11,12]])\n",
    "b"
   ]
  },
  {
   "cell_type": "code",
   "execution_count": 75,
   "id": "95ad58b4",
   "metadata": {},
   "outputs": [
    {
     "data": {
      "text/plain": [
       "2"
      ]
     },
     "execution_count": 75,
     "metadata": {},
     "output_type": "execute_result"
    }
   ],
   "source": [
    "b.ndim"
   ]
  },
  {
   "cell_type": "code",
   "execution_count": 77,
   "id": "7cea79c5",
   "metadata": {},
   "outputs": [
    {
     "data": {
      "text/plain": [
       "24"
      ]
     },
     "execution_count": 77,
     "metadata": {},
     "output_type": "execute_result"
    }
   ],
   "source": [
    "#size (number of elements)\n",
    "a.size"
   ]
  },
  {
   "cell_type": "code",
   "execution_count": 79,
   "id": "c2298f26",
   "metadata": {},
   "outputs": [
    {
     "data": {
      "text/plain": [
       "array([[[0, 1, 2, 3],\n",
       "        [4, 5, 6, 7]],\n",
       "\n",
       "       [[0, 1, 2, 3],\n",
       "        [4, 5, 6, 7]],\n",
       "\n",
       "       [[0, 1, 2, 3],\n",
       "        [4, 5, 6, 7]]])"
      ]
     },
     "execution_count": 79,
     "metadata": {},
     "output_type": "execute_result"
    }
   ],
   "source": [
    "a"
   ]
  },
  {
   "cell_type": "code",
   "execution_count": 78,
   "id": "96deda7d",
   "metadata": {},
   "outputs": [
    {
     "data": {
      "text/plain": [
       "(3, 2, 4)"
      ]
     },
     "execution_count": 78,
     "metadata": {},
     "output_type": "execute_result"
    }
   ],
   "source": [
    "#shape\n",
    "a.shape"
   ]
  },
  {
   "cell_type": "code",
   "execution_count": 84,
   "id": "a5a734d0",
   "metadata": {},
   "outputs": [
    {
     "data": {
      "text/plain": [
       "array([0, 1, 2, 3, 4, 5, 6, 7, 8])"
      ]
     },
     "execution_count": 84,
     "metadata": {},
     "output_type": "execute_result"
    }
   ],
   "source": [
    "a = np.arange(9)\n",
    "a"
   ]
  },
  {
   "cell_type": "code",
   "execution_count": 85,
   "id": "815103be",
   "metadata": {},
   "outputs": [
    {
     "data": {
      "text/plain": [
       "array([[0, 1, 2],\n",
       "       [3, 4, 5],\n",
       "       [6, 7, 8]])"
      ]
     },
     "execution_count": 85,
     "metadata": {},
     "output_type": "execute_result"
    }
   ],
   "source": [
    "# reshape\n",
    "b= a.reshape(3,3)\n",
    "b"
   ]
  },
  {
   "cell_type": "code",
   "execution_count": 88,
   "id": "83e1e06f",
   "metadata": {},
   "outputs": [
    {
     "data": {
      "text/plain": [
       "array([[0, 1, 2, 3, 4, 5, 6, 7, 8]])"
      ]
     },
     "execution_count": 88,
     "metadata": {},
     "output_type": "execute_result"
    }
   ],
   "source": [
    "# reshape\n",
    "np.reshape(a, newshape=(1, 9), order='c')"
   ]
  },
  {
   "cell_type": "code",
   "execution_count": 89,
   "id": "69395e45",
   "metadata": {},
   "outputs": [
    {
     "data": {
      "text/plain": [
       "array([1, 2, 3, 4, 5, 6, 7, 8, 9])"
      ]
     },
     "execution_count": 89,
     "metadata": {},
     "output_type": "execute_result"
    }
   ],
   "source": [
    "# covert 1D into 2D\n",
    "a = np.array([1,2,3,4,5,6,7,8,9])\n",
    "a"
   ]
  },
  {
   "cell_type": "code",
   "execution_count": 90,
   "id": "b9488180",
   "metadata": {},
   "outputs": [
    {
     "data": {
      "text/plain": [
       "(9,)"
      ]
     },
     "execution_count": 90,
     "metadata": {},
     "output_type": "execute_result"
    }
   ],
   "source": [
    "a.shape"
   ]
  },
  {
   "cell_type": "code",
   "execution_count": 91,
   "id": "0cabca0f",
   "metadata": {},
   "outputs": [
    {
     "data": {
      "text/plain": [
       "array([[1, 2, 3, 4, 5, 6, 7, 8, 9]])"
      ]
     },
     "execution_count": 91,
     "metadata": {},
     "output_type": "execute_result"
    }
   ],
   "source": [
    "b = a[np.newaxis, :]\n",
    "b"
   ]
  },
  {
   "cell_type": "code",
   "execution_count": 92,
   "id": "d0bc121f",
   "metadata": {},
   "outputs": [
    {
     "data": {
      "text/plain": [
       "(1, 9)"
      ]
     },
     "execution_count": 92,
     "metadata": {},
     "output_type": "execute_result"
    }
   ],
   "source": [
    "b.shape"
   ]
  },
  {
   "cell_type": "code",
   "execution_count": 93,
   "id": "b3f9aa5a",
   "metadata": {},
   "outputs": [
    {
     "data": {
      "text/plain": [
       "array([[1],\n",
       "       [2],\n",
       "       [3],\n",
       "       [4],\n",
       "       [5],\n",
       "       [6],\n",
       "       [7],\n",
       "       [8],\n",
       "       [9]])"
      ]
     },
     "execution_count": 93,
     "metadata": {},
     "output_type": "execute_result"
    }
   ],
   "source": [
    "#column wise\n",
    "c = a[: , np.newaxis]\n",
    "c"
   ]
  },
  {
   "cell_type": "code",
   "execution_count": 95,
   "id": "2af8a412",
   "metadata": {},
   "outputs": [
    {
     "data": {
      "text/plain": [
       "array([3, 4, 5, 6, 7, 8, 9])"
      ]
     },
     "execution_count": 95,
     "metadata": {},
     "output_type": "execute_result"
    }
   ],
   "source": [
    "a[2:9]"
   ]
  },
  {
   "cell_type": "code",
   "execution_count": 97,
   "id": "661368e7",
   "metadata": {},
   "outputs": [
    {
     "data": {
      "text/plain": [
       "array([1, 2, 3, 4, 5, 6, 7, 8, 9])"
      ]
     },
     "execution_count": 97,
     "metadata": {},
     "output_type": "execute_result"
    }
   ],
   "source": [
    "a"
   ]
  },
  {
   "cell_type": "code",
   "execution_count": 96,
   "id": "776e34cd",
   "metadata": {},
   "outputs": [
    {
     "data": {
      "text/plain": [
       "array([ 6, 12, 18, 24, 30, 36, 42, 48, 54])"
      ]
     },
     "execution_count": 96,
     "metadata": {},
     "output_type": "execute_result"
    }
   ],
   "source": [
    "a*6"
   ]
  },
  {
   "cell_type": "code",
   "execution_count": 98,
   "id": "ca3c3cc6",
   "metadata": {},
   "outputs": [
    {
     "data": {
      "text/plain": [
       "array([ 7,  8,  9, 10, 11, 12, 13, 14, 15])"
      ]
     },
     "execution_count": 98,
     "metadata": {},
     "output_type": "execute_result"
    }
   ],
   "source": [
    "a+6"
   ]
  },
  {
   "cell_type": "code",
   "execution_count": 99,
   "id": "84c1000e",
   "metadata": {},
   "outputs": [
    {
     "data": {
      "text/plain": [
       "45"
      ]
     },
     "execution_count": 99,
     "metadata": {},
     "output_type": "execute_result"
    }
   ],
   "source": [
    "a.sum()"
   ]
  },
  {
   "cell_type": "code",
   "execution_count": 120,
   "id": "bc8e5d71",
   "metadata": {},
   "outputs": [
    {
     "data": {
      "text/plain": [
       "5.0"
      ]
     },
     "execution_count": 120,
     "metadata": {},
     "output_type": "execute_result"
    }
   ],
   "source": [
    "a.mean()"
   ]
  }
 ],
 "metadata": {
  "kernelspec": {
   "display_name": "Python 3 (ipykernel)",
   "language": "python",
   "name": "python3"
  },
  "language_info": {
   "codemirror_mode": {
    "name": "ipython",
    "version": 3
   },
   "file_extension": ".py",
   "mimetype": "text/x-python",
   "name": "python",
   "nbconvert_exporter": "python",
   "pygments_lexer": "ipython3",
   "version": "3.9.12"
  }
 },
 "nbformat": 4,
 "nbformat_minor": 5
}
